{
 "cells": [
  {
   "cell_type": "markdown",
   "id": "5b80589e-c50c-425b-9643-f4375d0f9008",
   "metadata": {},
   "source": [
    "Import all packages"
   ]
  },
  {
   "cell_type": "code",
   "execution_count": 2,
   "id": "9a9c2c8e-811f-4673-bb68-54497880a0b2",
   "metadata": {},
   "outputs": [],
   "source": [
    "import pandas as pd\n",
    "import numpy as np \n",
    "import matplotlib.pyplot as plt\n",
    "import seaborn as sns\n",
    "%matplotlib inline"
   ]
  },
  {
   "cell_type": "markdown",
   "id": "d562a690-a439-458f-99ef-48b36087b955",
   "metadata": {},
   "source": [
    "Stress Enhanced Fear Learning - Freezing Analysis"
   ]
  },
  {
   "cell_type": "markdown",
   "id": "604c93c7-d672-4230-a9b2-707a60e87ea3",
   "metadata": {},
   "source": [
    "Convert dataframe from default Ethovision output"
   ]
  },
  {
   "cell_type": "markdown",
   "id": "2e011b62-4e90-477f-a473-f2326efcde6b",
   "metadata": {},
   "source": [
    "Import (default) ethovision export file from inactivity analysis"
   ]
  },
  {
   "cell_type": "code",
   "execution_count": 3,
   "id": "97c25072-094c-4bbb-9191-82a151b358b3",
   "metadata": {},
   "outputs": [],
   "source": [
    "etho_df = pd.read_csv('SEFL_Inactivity_Cohort_1.csv')"
   ]
  },
  {
   "cell_type": "markdown",
   "id": "364039c9-cad7-4613-bde8-507869ad5d3f",
   "metadata": {},
   "source": [
    "Import metadata "
   ]
  },
  {
   "cell_type": "code",
   "execution_count": 4,
   "id": "387833e7-f8d9-418d-b4bc-f7df51064cf7",
   "metadata": {},
   "outputs": [],
   "source": [
    "etho_meta = pd.read_csv('SEFL_Cohort1_metadata.csv')"
   ]
  },
  {
   "cell_type": "code",
   "execution_count": null,
   "id": "dac5598e-ef9d-4c48-9963-09a5eab772d4",
   "metadata": {},
   "outputs": [],
   "source": []
  }
 ],
 "metadata": {
  "kernelspec": {
   "display_name": "Python 3 (ipykernel)",
   "language": "python",
   "name": "python3"
  },
  "language_info": {
   "codemirror_mode": {
    "name": "ipython",
    "version": 3
   },
   "file_extension": ".py",
   "mimetype": "text/x-python",
   "name": "python",
   "nbconvert_exporter": "python",
   "pygments_lexer": "ipython3",
   "version": "3.10.4"
  }
 },
 "nbformat": 4,
 "nbformat_minor": 5
}
